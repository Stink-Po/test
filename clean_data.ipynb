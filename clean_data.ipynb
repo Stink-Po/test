{
 "cells": [
  {
   "cell_type": "code",
   "execution_count": 1,
   "outputs": [],
   "source": [
    "import pandas as pd\n",
    "\n",
    "df = pd.read_json('Iran96-97.json')"
   ],
   "metadata": {
    "collapsed": false,
    "pycharm": {
     "name": "#%%\n"
    }
   }
  },
  {
   "cell_type": "code",
   "execution_count": 9,
   "outputs": [
    {
     "data": {
      "text/plain": "(1222, 5)"
     },
     "execution_count": 9,
     "metadata": {},
     "output_type": "execute_result"
    }
   ],
   "source": [
    "df.shape"
   ],
   "metadata": {
    "collapsed": false,
    "pycharm": {
     "name": "#%%\n"
    }
   }
  },
  {
   "cell_type": "code",
   "execution_count": 11,
   "outputs": [
    {
     "data": {
      "text/plain": "<bound method DataFrame.isna of             latitude       longitude province    state        city\n0     34° 31' 24.924   50° 0' 20.866    مرکزی   آشتیان      آشتیان\n1     33° 40' 29.197  49° 52' 38.759    مرکزی     خمین  قورچی باشی\n2      34° 41' 6.076   50° 1' 21.457    مرکزی     تفرش        تفرش\n3     33° 38' 27.877   50° 4' 49.109    مرکزی     خمین        خمین\n4     33° 59' 25.282  50° 40' 53.965    مرکزی   دلیجان      دلیجان\n...              ...             ...      ...      ...         ...\n1217  35° 53' 21.876  50° 36' 53.586    البرز  نظرآباد      تنکمان\n1218  36° 10' 22.786   50° 46' 6.564    البرز   طالقان      طالقان\n1219  35° 43' 28.520  50° 21' 41.321    البرز  اشتهارد     اشتهارد\n1220                                    البرز    فردیس       فردیس\n1221  35° 44' 54.193  50° 56' 26.804    البرز    فردیس   مشکین دشت\n\n[1222 rows x 5 columns]>"
     },
     "execution_count": 11,
     "metadata": {},
     "output_type": "execute_result"
    }
   ],
   "source": [
    "df.isna"
   ],
   "metadata": {
    "collapsed": false,
    "pycharm": {
     "name": "#%%\n"
    }
   }
  },
  {
   "cell_type": "code",
   "execution_count": 12,
   "outputs": [
    {
     "data": {
      "text/plain": "            latitude       longitude province    state        city\n0     34° 31' 24.924   50° 0' 20.866    مرکزی   آشتیان      آشتیان\n1     33° 40' 29.197  49° 52' 38.759    مرکزی     خمین  قورچی باشی\n2      34° 41' 6.076   50° 1' 21.457    مرکزی     تفرش        تفرش\n3     33° 38' 27.877   50° 4' 49.109    مرکزی     خمین        خمین\n4     33° 59' 25.282  50° 40' 53.965    مرکزی   دلیجان      دلیجان\n...              ...             ...      ...      ...         ...\n1217  35° 53' 21.876  50° 36' 53.586    البرز  نظرآباد      تنکمان\n1218  36° 10' 22.786   50° 46' 6.564    البرز   طالقان      طالقان\n1219  35° 43' 28.520  50° 21' 41.321    البرز  اشتهارد     اشتهارد\n1220                                    البرز    فردیس       فردیس\n1221  35° 44' 54.193  50° 56' 26.804    البرز    فردیس   مشکین دشت\n\n[1222 rows x 5 columns]",
      "text/html": "<div>\n<style scoped>\n    .dataframe tbody tr th:only-of-type {\n        vertical-align: middle;\n    }\n\n    .dataframe tbody tr th {\n        vertical-align: top;\n    }\n\n    .dataframe thead th {\n        text-align: right;\n    }\n</style>\n<table border=\"1\" class=\"dataframe\">\n  <thead>\n    <tr style=\"text-align: right;\">\n      <th></th>\n      <th>latitude</th>\n      <th>longitude</th>\n      <th>province</th>\n      <th>state</th>\n      <th>city</th>\n    </tr>\n  </thead>\n  <tbody>\n    <tr>\n      <th>0</th>\n      <td>34° 31' 24.924</td>\n      <td>50° 0' 20.866</td>\n      <td>مرکزی</td>\n      <td>آشتیان</td>\n      <td>آشتیان</td>\n    </tr>\n    <tr>\n      <th>1</th>\n      <td>33° 40' 29.197</td>\n      <td>49° 52' 38.759</td>\n      <td>مرکزی</td>\n      <td>خمین</td>\n      <td>قورچی باشی</td>\n    </tr>\n    <tr>\n      <th>2</th>\n      <td>34° 41' 6.076</td>\n      <td>50° 1' 21.457</td>\n      <td>مرکزی</td>\n      <td>تفرش</td>\n      <td>تفرش</td>\n    </tr>\n    <tr>\n      <th>3</th>\n      <td>33° 38' 27.877</td>\n      <td>50° 4' 49.109</td>\n      <td>مرکزی</td>\n      <td>خمین</td>\n      <td>خمین</td>\n    </tr>\n    <tr>\n      <th>4</th>\n      <td>33° 59' 25.282</td>\n      <td>50° 40' 53.965</td>\n      <td>مرکزی</td>\n      <td>دلیجان</td>\n      <td>دلیجان</td>\n    </tr>\n    <tr>\n      <th>...</th>\n      <td>...</td>\n      <td>...</td>\n      <td>...</td>\n      <td>...</td>\n      <td>...</td>\n    </tr>\n    <tr>\n      <th>1217</th>\n      <td>35° 53' 21.876</td>\n      <td>50° 36' 53.586</td>\n      <td>البرز</td>\n      <td>نظرآباد</td>\n      <td>تنکمان</td>\n    </tr>\n    <tr>\n      <th>1218</th>\n      <td>36° 10' 22.786</td>\n      <td>50° 46' 6.564</td>\n      <td>البرز</td>\n      <td>طالقان</td>\n      <td>طالقان</td>\n    </tr>\n    <tr>\n      <th>1219</th>\n      <td>35° 43' 28.520</td>\n      <td>50° 21' 41.321</td>\n      <td>البرز</td>\n      <td>اشتهارد</td>\n      <td>اشتهارد</td>\n    </tr>\n    <tr>\n      <th>1220</th>\n      <td></td>\n      <td></td>\n      <td>البرز</td>\n      <td>فردیس</td>\n      <td>فردیس</td>\n    </tr>\n    <tr>\n      <th>1221</th>\n      <td>35° 44' 54.193</td>\n      <td>50° 56' 26.804</td>\n      <td>البرز</td>\n      <td>فردیس</td>\n      <td>مشکین دشت</td>\n    </tr>\n  </tbody>\n</table>\n<p>1222 rows × 5 columns</p>\n</div>"
     },
     "execution_count": 12,
     "metadata": {},
     "output_type": "execute_result"
    }
   ],
   "source": [
    "df.fillna(0)"
   ],
   "metadata": {
    "collapsed": false,
    "pycharm": {
     "name": "#%%\n"
    }
   }
  },
  {
   "cell_type": "code",
   "execution_count": 13,
   "outputs": [
    {
     "data": {
      "text/plain": "<bound method DataFrame.isna of             latitude       longitude province    state        city\n0     34° 31' 24.924   50° 0' 20.866    مرکزی   آشتیان      آشتیان\n1     33° 40' 29.197  49° 52' 38.759    مرکزی     خمین  قورچی باشی\n2      34° 41' 6.076   50° 1' 21.457    مرکزی     تفرش        تفرش\n3     33° 38' 27.877   50° 4' 49.109    مرکزی     خمین        خمین\n4     33° 59' 25.282  50° 40' 53.965    مرکزی   دلیجان      دلیجان\n...              ...             ...      ...      ...         ...\n1217  35° 53' 21.876  50° 36' 53.586    البرز  نظرآباد      تنکمان\n1218  36° 10' 22.786   50° 46' 6.564    البرز   طالقان      طالقان\n1219  35° 43' 28.520  50° 21' 41.321    البرز  اشتهارد     اشتهارد\n1220                                    البرز    فردیس       فردیس\n1221  35° 44' 54.193  50° 56' 26.804    البرز    فردیس   مشکین دشت\n\n[1222 rows x 5 columns]>"
     },
     "execution_count": 13,
     "metadata": {},
     "output_type": "execute_result"
    }
   ],
   "source": [
    "df.isna"
   ],
   "metadata": {
    "collapsed": false,
    "pycharm": {
     "name": "#%%\n"
    }
   }
  },
  {
   "cell_type": "code",
   "execution_count": 14,
   "outputs": [],
   "source": [
    "clean_df = df.dropna()"
   ],
   "metadata": {
    "collapsed": false,
    "pycharm": {
     "name": "#%%\n"
    }
   }
  },
  {
   "cell_type": "code",
   "execution_count": 15,
   "outputs": [
    {
     "data": {
      "text/plain": "<bound method DataFrame.isna of             latitude       longitude province    state        city\n0     34° 31' 24.924   50° 0' 20.866    مرکزی   آشتیان      آشتیان\n1     33° 40' 29.197  49° 52' 38.759    مرکزی     خمین  قورچی باشی\n2      34° 41' 6.076   50° 1' 21.457    مرکزی     تفرش        تفرش\n3     33° 38' 27.877   50° 4' 49.109    مرکزی     خمین        خمین\n4     33° 59' 25.282  50° 40' 53.965    مرکزی   دلیجان      دلیجان\n...              ...             ...      ...      ...         ...\n1217  35° 53' 21.876  50° 36' 53.586    البرز  نظرآباد      تنکمان\n1218  36° 10' 22.786   50° 46' 6.564    البرز   طالقان      طالقان\n1219  35° 43' 28.520  50° 21' 41.321    البرز  اشتهارد     اشتهارد\n1220                                    البرز    فردیس       فردیس\n1221  35° 44' 54.193  50° 56' 26.804    البرز    فردیس   مشکین دشت\n\n[1222 rows x 5 columns]>"
     },
     "execution_count": 15,
     "metadata": {},
     "output_type": "execute_result"
    }
   ],
   "source": [
    "clean_df.isna"
   ],
   "metadata": {
    "collapsed": false,
    "pycharm": {
     "name": "#%%\n"
    }
   }
  },
  {
   "cell_type": "code",
   "execution_count": 16,
   "outputs": [
    {
     "data": {
      "text/plain": "(1222, 5)"
     },
     "execution_count": 16,
     "metadata": {},
     "output_type": "execute_result"
    }
   ],
   "source": [
    "clean_df.shape"
   ],
   "metadata": {
    "collapsed": false,
    "pycharm": {
     "name": "#%%\n"
    }
   }
  },
  {
   "cell_type": "code",
   "execution_count": 17,
   "outputs": [
    {
     "data": {
      "text/plain": "0           آشتیان\n1       قورچی باشی\n2             تفرش\n3             خمین\n4           دلیجان\n           ...    \n1217        تنکمان\n1218        طالقان\n1219       اشتهارد\n1220         فردیس\n1221     مشکین دشت\nName: city, Length: 1222, dtype: object"
     },
     "execution_count": 17,
     "metadata": {},
     "output_type": "execute_result"
    }
   ],
   "source": [
    "clean_df.city"
   ],
   "metadata": {
    "collapsed": false,
    "pycharm": {
     "name": "#%%\n"
    }
   }
  },
  {
   "cell_type": "code",
   "execution_count": 18,
   "outputs": [
    {
     "data": {
      "text/plain": "         latitude       longitude province   state        city\n0  34° 31' 24.924   50° 0' 20.866    مرکزی  آشتیان      آشتیان\n1  33° 40' 29.197  49° 52' 38.759    مرکزی    خمین  قورچی باشی\n2   34° 41' 6.076   50° 1' 21.457    مرکزی    تفرش        تفرش\n3  33° 38' 27.877   50° 4' 49.109    مرکزی    خمین        خمین\n4  33° 59' 25.282  50° 40' 53.965    مرکزی  دلیجان      دلیجان",
      "text/html": "<div>\n<style scoped>\n    .dataframe tbody tr th:only-of-type {\n        vertical-align: middle;\n    }\n\n    .dataframe tbody tr th {\n        vertical-align: top;\n    }\n\n    .dataframe thead th {\n        text-align: right;\n    }\n</style>\n<table border=\"1\" class=\"dataframe\">\n  <thead>\n    <tr style=\"text-align: right;\">\n      <th></th>\n      <th>latitude</th>\n      <th>longitude</th>\n      <th>province</th>\n      <th>state</th>\n      <th>city</th>\n    </tr>\n  </thead>\n  <tbody>\n    <tr>\n      <th>0</th>\n      <td>34° 31' 24.924</td>\n      <td>50° 0' 20.866</td>\n      <td>مرکزی</td>\n      <td>آشتیان</td>\n      <td>آشتیان</td>\n    </tr>\n    <tr>\n      <th>1</th>\n      <td>33° 40' 29.197</td>\n      <td>49° 52' 38.759</td>\n      <td>مرکزی</td>\n      <td>خمین</td>\n      <td>قورچی باشی</td>\n    </tr>\n    <tr>\n      <th>2</th>\n      <td>34° 41' 6.076</td>\n      <td>50° 1' 21.457</td>\n      <td>مرکزی</td>\n      <td>تفرش</td>\n      <td>تفرش</td>\n    </tr>\n    <tr>\n      <th>3</th>\n      <td>33° 38' 27.877</td>\n      <td>50° 4' 49.109</td>\n      <td>مرکزی</td>\n      <td>خمین</td>\n      <td>خمین</td>\n    </tr>\n    <tr>\n      <th>4</th>\n      <td>33° 59' 25.282</td>\n      <td>50° 40' 53.965</td>\n      <td>مرکزی</td>\n      <td>دلیجان</td>\n      <td>دلیجان</td>\n    </tr>\n  </tbody>\n</table>\n</div>"
     },
     "execution_count": 18,
     "metadata": {},
     "output_type": "execute_result"
    }
   ],
   "source": [
    "clean_df.head()"
   ],
   "metadata": {
    "collapsed": false,
    "pycharm": {
     "name": "#%%\n"
    }
   }
  },
  {
   "cell_type": "code",
   "execution_count": 19,
   "outputs": [
    {
     "data": {
      "text/plain": "            latitude       longitude province    state       city\n1217  35° 53' 21.876  50° 36' 53.586    البرز  نظرآباد     تنکمان\n1218  36° 10' 22.786   50° 46' 6.564    البرز   طالقان     طالقان\n1219  35° 43' 28.520  50° 21' 41.321    البرز  اشتهارد    اشتهارد\n1220                                    البرز    فردیس      فردیس\n1221  35° 44' 54.193  50° 56' 26.804    البرز    فردیس  مشکین دشت",
      "text/html": "<div>\n<style scoped>\n    .dataframe tbody tr th:only-of-type {\n        vertical-align: middle;\n    }\n\n    .dataframe tbody tr th {\n        vertical-align: top;\n    }\n\n    .dataframe thead th {\n        text-align: right;\n    }\n</style>\n<table border=\"1\" class=\"dataframe\">\n  <thead>\n    <tr style=\"text-align: right;\">\n      <th></th>\n      <th>latitude</th>\n      <th>longitude</th>\n      <th>province</th>\n      <th>state</th>\n      <th>city</th>\n    </tr>\n  </thead>\n  <tbody>\n    <tr>\n      <th>1217</th>\n      <td>35° 53' 21.876</td>\n      <td>50° 36' 53.586</td>\n      <td>البرز</td>\n      <td>نظرآباد</td>\n      <td>تنکمان</td>\n    </tr>\n    <tr>\n      <th>1218</th>\n      <td>36° 10' 22.786</td>\n      <td>50° 46' 6.564</td>\n      <td>البرز</td>\n      <td>طالقان</td>\n      <td>طالقان</td>\n    </tr>\n    <tr>\n      <th>1219</th>\n      <td>35° 43' 28.520</td>\n      <td>50° 21' 41.321</td>\n      <td>البرز</td>\n      <td>اشتهارد</td>\n      <td>اشتهارد</td>\n    </tr>\n    <tr>\n      <th>1220</th>\n      <td></td>\n      <td></td>\n      <td>البرز</td>\n      <td>فردیس</td>\n      <td>فردیس</td>\n    </tr>\n    <tr>\n      <th>1221</th>\n      <td>35° 44' 54.193</td>\n      <td>50° 56' 26.804</td>\n      <td>البرز</td>\n      <td>فردیس</td>\n      <td>مشکین دشت</td>\n    </tr>\n  </tbody>\n</table>\n</div>"
     },
     "execution_count": 19,
     "metadata": {},
     "output_type": "execute_result"
    }
   ],
   "source": [
    "clean_df.tail()"
   ],
   "metadata": {
    "collapsed": false,
    "pycharm": {
     "name": "#%%\n"
    }
   }
  },
  {
   "cell_type": "code",
   "execution_count": 20,
   "outputs": [],
   "source": [
    "clean_df.drop(['latitude', 'longitude'], axis=1, inplace=True)"
   ],
   "metadata": {
    "collapsed": false,
    "pycharm": {
     "name": "#%%\n"
    }
   }
  },
  {
   "cell_type": "code",
   "execution_count": 21,
   "outputs": [
    {
     "data": {
      "text/plain": "  province   state        city\n0    مرکزی  آشتیان      آشتیان\n1    مرکزی    خمین  قورچی باشی\n2    مرکزی    تفرش        تفرش\n3    مرکزی    خمین        خمین\n4    مرکزی  دلیجان      دلیجان",
      "text/html": "<div>\n<style scoped>\n    .dataframe tbody tr th:only-of-type {\n        vertical-align: middle;\n    }\n\n    .dataframe tbody tr th {\n        vertical-align: top;\n    }\n\n    .dataframe thead th {\n        text-align: right;\n    }\n</style>\n<table border=\"1\" class=\"dataframe\">\n  <thead>\n    <tr style=\"text-align: right;\">\n      <th></th>\n      <th>province</th>\n      <th>state</th>\n      <th>city</th>\n    </tr>\n  </thead>\n  <tbody>\n    <tr>\n      <th>0</th>\n      <td>مرکزی</td>\n      <td>آشتیان</td>\n      <td>آشتیان</td>\n    </tr>\n    <tr>\n      <th>1</th>\n      <td>مرکزی</td>\n      <td>خمین</td>\n      <td>قورچی باشی</td>\n    </tr>\n    <tr>\n      <th>2</th>\n      <td>مرکزی</td>\n      <td>تفرش</td>\n      <td>تفرش</td>\n    </tr>\n    <tr>\n      <th>3</th>\n      <td>مرکزی</td>\n      <td>خمین</td>\n      <td>خمین</td>\n    </tr>\n    <tr>\n      <th>4</th>\n      <td>مرکزی</td>\n      <td>دلیجان</td>\n      <td>دلیجان</td>\n    </tr>\n  </tbody>\n</table>\n</div>"
     },
     "execution_count": 21,
     "metadata": {},
     "output_type": "execute_result"
    }
   ],
   "source": [
    "clean_df.head()"
   ],
   "metadata": {
    "collapsed": false,
    "pycharm": {
     "name": "#%%\n"
    }
   }
  },
  {
   "cell_type": "code",
   "execution_count": 3,
   "outputs": [],
   "source": [
    "new_df = pd.read_excel('NE_Jeefo_V2.xlsx')"
   ],
   "metadata": {
    "collapsed": false,
    "pycharm": {
     "name": "#%%\n"
    }
   }
  },
  {
   "cell_type": "code",
   "execution_count": 5,
   "outputs": [
    {
     "name": "stdout",
     "output_type": "stream",
     "text": [
      "     نشریه جایگاه اقتصادی، اجتماعی و فرهنگی استان ها: 1398-1394  Unnamed: 1  \\\n",
      "0                                                مقدمه                  NaN   \n",
      "1                                      تعاریف و مفاهیم                  NaN   \n",
      "2                                     علائم و نشانه ها                  NaN   \n",
      "3                             فصل 1- سرزمین و آب و هوا                  NaN   \n",
      "4                           1-سهم استان از  مساحت کشور                  NaN   \n",
      "..                                                 ...                  ...   \n",
      "355  3- تعداد دارندگان حق راي در انتخابات مجلس شورا...                  NaN   \n",
      "356  4- تعداد راي دهندگان در انتخابات مجلس شوراي اس...                  NaN   \n",
      "357                            5- تعداد شوراهاي اسلامي                  NaN   \n",
      "358     6- در صد منتخبین زنان شوراهاي اسلامي تشكيل شده                  NaN   \n",
      "359  7- در صد منتخبن زن در ادوار ششم تا دهم انتخابا...                  NaN   \n",
      "\n",
      "     Unnamed: 2  Unnamed: 3  Unnamed: 4  Unnamed: 5  Unnamed: 6  Unnamed: 7  \\\n",
      "0           NaN         NaN         NaN         NaN         NaN         NaN   \n",
      "1           NaN         NaN         NaN         NaN         NaN         NaN   \n",
      "2           NaN         NaN         NaN         NaN         NaN         NaN   \n",
      "3           NaN         NaN         NaN         NaN         NaN         NaN   \n",
      "4           NaN         NaN         NaN         NaN         NaN         NaN   \n",
      "..          ...         ...         ...         ...         ...         ...   \n",
      "355         NaN         NaN         NaN         NaN         NaN         NaN   \n",
      "356         NaN         NaN         NaN         NaN         NaN         NaN   \n",
      "357         NaN         NaN         NaN         NaN         NaN         NaN   \n",
      "358         NaN         NaN         NaN         NaN         NaN         NaN   \n",
      "359         NaN         NaN         NaN         NaN         NaN         NaN   \n",
      "\n",
      "     Unnamed: 8  Unnamed: 9 Unnamed: 10 Unnamed: 11  \n",
      "0           NaN         NaN         NaN         NaN  \n",
      "1           NaN         NaN         NaN         NaN  \n",
      "2           NaN         NaN         NaN         NaN  \n",
      "3           NaN         NaN         NaN         NaN  \n",
      "4           NaN         NaN         NaN         NaN  \n",
      "..          ...         ...         ...         ...  \n",
      "355         NaN         NaN         NaN         NaN  \n",
      "356         NaN         NaN         NaN         NaN  \n",
      "357         NaN         NaN         NaN         NaN  \n",
      "358         NaN         NaN         NaN         NaN  \n",
      "359         NaN         NaN         NaN         NaN  \n",
      "\n",
      "[360 rows x 12 columns]\n"
     ]
    }
   ],
   "source": [
    "print(new_df)"
   ],
   "metadata": {
    "collapsed": false,
    "pycharm": {
     "name": "#%%\n"
    }
   }
  },
  {
   "cell_type": "code",
   "execution_count": 6,
   "outputs": [
    {
     "data": {
      "text/plain": "(360, 12)"
     },
     "execution_count": 6,
     "metadata": {},
     "output_type": "execute_result"
    }
   ],
   "source": [
    "new_df.shape"
   ],
   "metadata": {
    "collapsed": false,
    "pycharm": {
     "name": "#%%\n"
    }
   }
  },
  {
   "cell_type": "code",
   "execution_count": 7,
   "outputs": [
    {
     "data": {
      "text/plain": "   نشریه جایگاه اقتصادی، اجتماعی و فرهنگی استان ها: 1398-1394  Unnamed: 1  \\\n0                                              مقدمه                  NaN   \n1                                    تعاریف و مفاهیم                  NaN   \n2                                   علائم و نشانه ها                  NaN   \n3                           فصل 1- سرزمین و آب و هوا                  NaN   \n4                         1-سهم استان از  مساحت کشور                  NaN   \n\n   Unnamed: 2  Unnamed: 3  Unnamed: 4  Unnamed: 5  Unnamed: 6  Unnamed: 7  \\\n0         NaN         NaN         NaN         NaN         NaN         NaN   \n1         NaN         NaN         NaN         NaN         NaN         NaN   \n2         NaN         NaN         NaN         NaN         NaN         NaN   \n3         NaN         NaN         NaN         NaN         NaN         NaN   \n4         NaN         NaN         NaN         NaN         NaN         NaN   \n\n   Unnamed: 8  Unnamed: 9 Unnamed: 10 Unnamed: 11  \n0         NaN         NaN         NaN         NaN  \n1         NaN         NaN         NaN         NaN  \n2         NaN         NaN         NaN         NaN  \n3         NaN         NaN         NaN         NaN  \n4         NaN         NaN         NaN         NaN  ",
      "text/html": "<div>\n<style scoped>\n    .dataframe tbody tr th:only-of-type {\n        vertical-align: middle;\n    }\n\n    .dataframe tbody tr th {\n        vertical-align: top;\n    }\n\n    .dataframe thead th {\n        text-align: right;\n    }\n</style>\n<table border=\"1\" class=\"dataframe\">\n  <thead>\n    <tr style=\"text-align: right;\">\n      <th></th>\n      <th>نشریه جایگاه اقتصادی، اجتماعی و فرهنگی استان ها: 1398-1394</th>\n      <th>Unnamed: 1</th>\n      <th>Unnamed: 2</th>\n      <th>Unnamed: 3</th>\n      <th>Unnamed: 4</th>\n      <th>Unnamed: 5</th>\n      <th>Unnamed: 6</th>\n      <th>Unnamed: 7</th>\n      <th>Unnamed: 8</th>\n      <th>Unnamed: 9</th>\n      <th>Unnamed: 10</th>\n      <th>Unnamed: 11</th>\n    </tr>\n  </thead>\n  <tbody>\n    <tr>\n      <th>0</th>\n      <td>مقدمه</td>\n      <td>NaN</td>\n      <td>NaN</td>\n      <td>NaN</td>\n      <td>NaN</td>\n      <td>NaN</td>\n      <td>NaN</td>\n      <td>NaN</td>\n      <td>NaN</td>\n      <td>NaN</td>\n      <td>NaN</td>\n      <td>NaN</td>\n    </tr>\n    <tr>\n      <th>1</th>\n      <td>تعاریف و مفاهیم</td>\n      <td>NaN</td>\n      <td>NaN</td>\n      <td>NaN</td>\n      <td>NaN</td>\n      <td>NaN</td>\n      <td>NaN</td>\n      <td>NaN</td>\n      <td>NaN</td>\n      <td>NaN</td>\n      <td>NaN</td>\n      <td>NaN</td>\n    </tr>\n    <tr>\n      <th>2</th>\n      <td>علائم و نشانه ها</td>\n      <td>NaN</td>\n      <td>NaN</td>\n      <td>NaN</td>\n      <td>NaN</td>\n      <td>NaN</td>\n      <td>NaN</td>\n      <td>NaN</td>\n      <td>NaN</td>\n      <td>NaN</td>\n      <td>NaN</td>\n      <td>NaN</td>\n    </tr>\n    <tr>\n      <th>3</th>\n      <td>فصل 1- سرزمین و آب و هوا</td>\n      <td>NaN</td>\n      <td>NaN</td>\n      <td>NaN</td>\n      <td>NaN</td>\n      <td>NaN</td>\n      <td>NaN</td>\n      <td>NaN</td>\n      <td>NaN</td>\n      <td>NaN</td>\n      <td>NaN</td>\n      <td>NaN</td>\n    </tr>\n    <tr>\n      <th>4</th>\n      <td>1-سهم استان از  مساحت کشور</td>\n      <td>NaN</td>\n      <td>NaN</td>\n      <td>NaN</td>\n      <td>NaN</td>\n      <td>NaN</td>\n      <td>NaN</td>\n      <td>NaN</td>\n      <td>NaN</td>\n      <td>NaN</td>\n      <td>NaN</td>\n      <td>NaN</td>\n    </tr>\n  </tbody>\n</table>\n</div>"
     },
     "execution_count": 7,
     "metadata": {},
     "output_type": "execute_result"
    }
   ],
   "source": [
    "new_df.head()"
   ],
   "metadata": {
    "collapsed": false,
    "pycharm": {
     "name": "#%%\n"
    }
   }
  },
  {
   "cell_type": "code",
   "execution_count": 8,
   "outputs": [],
   "source": [
    "geo_df = pd.read_excel('GEO1400.xlsx')"
   ],
   "metadata": {
    "collapsed": false,
    "pycharm": {
     "name": "#%%\n"
    }
   }
  },
  {
   "cell_type": "code",
   "execution_count": 9,
   "outputs": [
    {
     "data": {
      "text/plain": "        OSTAN Ostan_name  SHAHRESTAN Shahrestan_name  BAKHSH Bakhsh_name  \\\n0           0      مرکزي         NaN             NaN     NaN         NaN   \n1           0      مرکزي         1.0            اراک     NaN         NaN   \n2           0      مرکزي         1.0            اراک     2.0       مرکزي   \n3           0      مرکزي         1.0            اراک     2.0       مرکزي   \n4           0      مرکزي         1.0            اراک     2.0       مرکزي   \n...       ...        ...         ...             ...     ...         ...   \n104459     30      البرز         7.0         چهارباغ     2.0      رامجين   \n104460     30      البرز         7.0         چهارباغ     2.0      رامجين   \n104461     30      البرز         7.0         چهارباغ     2.0      رامجين   \n104462     23      تهران        13.0          پاكدشت     2.0       مركزئ   \n104463     23      تهران        13.0          پاكدشت     2.0       مركزئ   \n\n        SHRDEH Dehestan/Shahr_name    BLKABD  CODEREC        NAME    DIAG  \n0          NaN                 NaN       NaN        1       مرکزي     NaN  \n1          NaN                 NaN       NaN        2        اراک     NaN  \n2          NaN                 NaN       NaN        3       مرکزي     NaN  \n3          1.0           امان آباد       NaN        4   امان آباد     NaN  \n4          1.0           امان آباد     266.0        8   امان آباد  3238.0  \n...        ...                 ...       ...      ...         ...     ...  \n104459     2.0           اغلان تپه  260643.0        8    زکي اباد  4107.0  \n104460     2.0           اغلان تپه  260655.0        6      کهريزک     NaN  \n104461     2.0           اغلان تپه  260660.0        6  يعقوب آباد     NaN  \n104462  1052.0            پاکدشت 1       NaN        5    پاکدشت 1     NaN  \n104463  1053.0            پاکدشت 2       NaN        5    پاکدشت 2     NaN  \n\n[104464 rows x 12 columns]",
      "text/html": "<div>\n<style scoped>\n    .dataframe tbody tr th:only-of-type {\n        vertical-align: middle;\n    }\n\n    .dataframe tbody tr th {\n        vertical-align: top;\n    }\n\n    .dataframe thead th {\n        text-align: right;\n    }\n</style>\n<table border=\"1\" class=\"dataframe\">\n  <thead>\n    <tr style=\"text-align: right;\">\n      <th></th>\n      <th>OSTAN</th>\n      <th>Ostan_name</th>\n      <th>SHAHRESTAN</th>\n      <th>Shahrestan_name</th>\n      <th>BAKHSH</th>\n      <th>Bakhsh_name</th>\n      <th>SHRDEH</th>\n      <th>Dehestan/Shahr_name</th>\n      <th>BLKABD</th>\n      <th>CODEREC</th>\n      <th>NAME</th>\n      <th>DIAG</th>\n    </tr>\n  </thead>\n  <tbody>\n    <tr>\n      <th>0</th>\n      <td>0</td>\n      <td>مرکزي</td>\n      <td>NaN</td>\n      <td>NaN</td>\n      <td>NaN</td>\n      <td>NaN</td>\n      <td>NaN</td>\n      <td>NaN</td>\n      <td>NaN</td>\n      <td>1</td>\n      <td>مرکزي</td>\n      <td>NaN</td>\n    </tr>\n    <tr>\n      <th>1</th>\n      <td>0</td>\n      <td>مرکزي</td>\n      <td>1.0</td>\n      <td>اراک</td>\n      <td>NaN</td>\n      <td>NaN</td>\n      <td>NaN</td>\n      <td>NaN</td>\n      <td>NaN</td>\n      <td>2</td>\n      <td>اراک</td>\n      <td>NaN</td>\n    </tr>\n    <tr>\n      <th>2</th>\n      <td>0</td>\n      <td>مرکزي</td>\n      <td>1.0</td>\n      <td>اراک</td>\n      <td>2.0</td>\n      <td>مرکزي</td>\n      <td>NaN</td>\n      <td>NaN</td>\n      <td>NaN</td>\n      <td>3</td>\n      <td>مرکزي</td>\n      <td>NaN</td>\n    </tr>\n    <tr>\n      <th>3</th>\n      <td>0</td>\n      <td>مرکزي</td>\n      <td>1.0</td>\n      <td>اراک</td>\n      <td>2.0</td>\n      <td>مرکزي</td>\n      <td>1.0</td>\n      <td>امان آباد</td>\n      <td>NaN</td>\n      <td>4</td>\n      <td>امان آباد</td>\n      <td>NaN</td>\n    </tr>\n    <tr>\n      <th>4</th>\n      <td>0</td>\n      <td>مرکزي</td>\n      <td>1.0</td>\n      <td>اراک</td>\n      <td>2.0</td>\n      <td>مرکزي</td>\n      <td>1.0</td>\n      <td>امان آباد</td>\n      <td>266.0</td>\n      <td>8</td>\n      <td>امان آباد</td>\n      <td>3238.0</td>\n    </tr>\n    <tr>\n      <th>...</th>\n      <td>...</td>\n      <td>...</td>\n      <td>...</td>\n      <td>...</td>\n      <td>...</td>\n      <td>...</td>\n      <td>...</td>\n      <td>...</td>\n      <td>...</td>\n      <td>...</td>\n      <td>...</td>\n      <td>...</td>\n    </tr>\n    <tr>\n      <th>104459</th>\n      <td>30</td>\n      <td>البرز</td>\n      <td>7.0</td>\n      <td>چهارباغ</td>\n      <td>2.0</td>\n      <td>رامجين</td>\n      <td>2.0</td>\n      <td>اغلان تپه</td>\n      <td>260643.0</td>\n      <td>8</td>\n      <td>زکي اباد</td>\n      <td>4107.0</td>\n    </tr>\n    <tr>\n      <th>104460</th>\n      <td>30</td>\n      <td>البرز</td>\n      <td>7.0</td>\n      <td>چهارباغ</td>\n      <td>2.0</td>\n      <td>رامجين</td>\n      <td>2.0</td>\n      <td>اغلان تپه</td>\n      <td>260655.0</td>\n      <td>6</td>\n      <td>کهريزک</td>\n      <td>NaN</td>\n    </tr>\n    <tr>\n      <th>104461</th>\n      <td>30</td>\n      <td>البرز</td>\n      <td>7.0</td>\n      <td>چهارباغ</td>\n      <td>2.0</td>\n      <td>رامجين</td>\n      <td>2.0</td>\n      <td>اغلان تپه</td>\n      <td>260660.0</td>\n      <td>6</td>\n      <td>يعقوب آباد</td>\n      <td>NaN</td>\n    </tr>\n    <tr>\n      <th>104462</th>\n      <td>23</td>\n      <td>تهران</td>\n      <td>13.0</td>\n      <td>پاكدشت</td>\n      <td>2.0</td>\n      <td>مركزئ</td>\n      <td>1052.0</td>\n      <td>پاکدشت 1</td>\n      <td>NaN</td>\n      <td>5</td>\n      <td>پاکدشت 1</td>\n      <td>NaN</td>\n    </tr>\n    <tr>\n      <th>104463</th>\n      <td>23</td>\n      <td>تهران</td>\n      <td>13.0</td>\n      <td>پاكدشت</td>\n      <td>2.0</td>\n      <td>مركزئ</td>\n      <td>1053.0</td>\n      <td>پاکدشت 2</td>\n      <td>NaN</td>\n      <td>5</td>\n      <td>پاکدشت 2</td>\n      <td>NaN</td>\n    </tr>\n  </tbody>\n</table>\n<p>104464 rows × 12 columns</p>\n</div>"
     },
     "execution_count": 9,
     "metadata": {},
     "output_type": "execute_result"
    }
   ],
   "source": [
    "geo_df"
   ],
   "metadata": {
    "collapsed": false,
    "pycharm": {
     "name": "#%%\n"
    }
   }
  },
  {
   "cell_type": "code",
   "execution_count": 10,
   "outputs": [],
   "source": [
    "popularion_df = pd.read_csv('iod-02211-provincial-population-distribution-percent-f.csv')"
   ],
   "metadata": {
    "collapsed": false,
    "pycharm": {
     "name": "#%%\n"
    }
   }
  },
  {
   "cell_type": "code",
   "execution_count": 11,
   "outputs": [
    {
     "data": {
      "text/plain": "            استان  ۱۳۹۵-توزیع ۱۳۹۵-رتبه  ۱۳۹۶-جمعیت ۱۳۹۶-رتبه  ۱۳۹۷-جمعیت  \\\n0        کل کشور        100.0        ××       100.0        ××       100.0   \n1  آذربايجان شرقي         4.9         6         4.9         6         4.9   \n2  آذربايجان غربي         4.1         8         4.1         7         4.1   \n3          اردبيل         1.6        22         1.6        22         1.6   \n4          اصفهان         6.4         3         6.4         3         6.4   \n\n  ۱۳۹۷-رتبه  ۱۳۹۸-جمعیت ۱۳۹۸-رتبه ۱۳۹۹ -جمعیت ۱۳۹۹ -رتبه  \n0        ××       100.0        ××       100/0         ××  \n1         6         4.8         6         4.8          6  \n2         7         4.1         7         4.1          7  \n3        22         1.6        22         1.6         22  \n4         3         6.4         3         6.4          3  ",
      "text/html": "<div>\n<style scoped>\n    .dataframe tbody tr th:only-of-type {\n        vertical-align: middle;\n    }\n\n    .dataframe tbody tr th {\n        vertical-align: top;\n    }\n\n    .dataframe thead th {\n        text-align: right;\n    }\n</style>\n<table border=\"1\" class=\"dataframe\">\n  <thead>\n    <tr style=\"text-align: right;\">\n      <th></th>\n      <th>استان</th>\n      <th>۱۳۹۵-توزیع</th>\n      <th>۱۳۹۵-رتبه</th>\n      <th>۱۳۹۶-جمعیت</th>\n      <th>۱۳۹۶-رتبه</th>\n      <th>۱۳۹۷-جمعیت</th>\n      <th>۱۳۹۷-رتبه</th>\n      <th>۱۳۹۸-جمعیت</th>\n      <th>۱۳۹۸-رتبه</th>\n      <th>۱۳۹۹ -جمعیت</th>\n      <th>۱۳۹۹ -رتبه</th>\n    </tr>\n  </thead>\n  <tbody>\n    <tr>\n      <th>0</th>\n      <td>کل کشور</td>\n      <td>100.0</td>\n      <td>××</td>\n      <td>100.0</td>\n      <td>××</td>\n      <td>100.0</td>\n      <td>××</td>\n      <td>100.0</td>\n      <td>××</td>\n      <td>100/0</td>\n      <td>××</td>\n    </tr>\n    <tr>\n      <th>1</th>\n      <td>آذربايجان شرقي</td>\n      <td>4.9</td>\n      <td>6</td>\n      <td>4.9</td>\n      <td>6</td>\n      <td>4.9</td>\n      <td>6</td>\n      <td>4.8</td>\n      <td>6</td>\n      <td>4.8</td>\n      <td>6</td>\n    </tr>\n    <tr>\n      <th>2</th>\n      <td>آذربايجان غربي</td>\n      <td>4.1</td>\n      <td>8</td>\n      <td>4.1</td>\n      <td>7</td>\n      <td>4.1</td>\n      <td>7</td>\n      <td>4.1</td>\n      <td>7</td>\n      <td>4.1</td>\n      <td>7</td>\n    </tr>\n    <tr>\n      <th>3</th>\n      <td>اردبيل</td>\n      <td>1.6</td>\n      <td>22</td>\n      <td>1.6</td>\n      <td>22</td>\n      <td>1.6</td>\n      <td>22</td>\n      <td>1.6</td>\n      <td>22</td>\n      <td>1.6</td>\n      <td>22</td>\n    </tr>\n    <tr>\n      <th>4</th>\n      <td>اصفهان</td>\n      <td>6.4</td>\n      <td>3</td>\n      <td>6.4</td>\n      <td>3</td>\n      <td>6.4</td>\n      <td>3</td>\n      <td>6.4</td>\n      <td>3</td>\n      <td>6.4</td>\n      <td>3</td>\n    </tr>\n  </tbody>\n</table>\n</div>"
     },
     "execution_count": 11,
     "metadata": {},
     "output_type": "execute_result"
    }
   ],
   "source": [
    "popularion_df.head()"
   ],
   "metadata": {
    "collapsed": false,
    "pycharm": {
     "name": "#%%\n"
    }
   }
  },
  {
   "cell_type": "code",
   "execution_count": 12,
   "outputs": [
    {
     "ename": "KeyError",
     "evalue": "'جمعیت- 1399'",
     "output_type": "error",
     "traceback": [
      "\u001B[1;31m---------------------------------------------------------------------------\u001B[0m",
      "\u001B[1;31mKeyError\u001B[0m                                  Traceback (most recent call last)",
      "File \u001B[1;32m~\\PycharmProjects\\start-db\\venv\\lib\\site-packages\\pandas\\core\\indexes\\base.py:3652\u001B[0m, in \u001B[0;36mIndex.get_loc\u001B[1;34m(self, key)\u001B[0m\n\u001B[0;32m   3651\u001B[0m \u001B[38;5;28;01mtry\u001B[39;00m:\n\u001B[1;32m-> 3652\u001B[0m     \u001B[38;5;28;01mreturn\u001B[39;00m \u001B[38;5;28;43mself\u001B[39;49m\u001B[38;5;241;43m.\u001B[39;49m\u001B[43m_engine\u001B[49m\u001B[38;5;241;43m.\u001B[39;49m\u001B[43mget_loc\u001B[49m\u001B[43m(\u001B[49m\u001B[43mcasted_key\u001B[49m\u001B[43m)\u001B[49m\n\u001B[0;32m   3653\u001B[0m \u001B[38;5;28;01mexcept\u001B[39;00m \u001B[38;5;167;01mKeyError\u001B[39;00m \u001B[38;5;28;01mas\u001B[39;00m err:\n",
      "File \u001B[1;32m~\\PycharmProjects\\start-db\\venv\\lib\\site-packages\\pandas\\_libs\\index.pyx:147\u001B[0m, in \u001B[0;36mpandas._libs.index.IndexEngine.get_loc\u001B[1;34m()\u001B[0m\n",
      "File \u001B[1;32m~\\PycharmProjects\\start-db\\venv\\lib\\site-packages\\pandas\\_libs\\index.pyx:176\u001B[0m, in \u001B[0;36mpandas._libs.index.IndexEngine.get_loc\u001B[1;34m()\u001B[0m\n",
      "File \u001B[1;32mpandas\\_libs\\hashtable_class_helper.pxi:7080\u001B[0m, in \u001B[0;36mpandas._libs.hashtable.PyObjectHashTable.get_item\u001B[1;34m()\u001B[0m\n",
      "File \u001B[1;32mpandas\\_libs\\hashtable_class_helper.pxi:7088\u001B[0m, in \u001B[0;36mpandas._libs.hashtable.PyObjectHashTable.get_item\u001B[1;34m()\u001B[0m\n",
      "\u001B[1;31mKeyError\u001B[0m: 'جمعیت- 1399'",
      "\nThe above exception was the direct cause of the following exception:\n",
      "\u001B[1;31mKeyError\u001B[0m                                  Traceback (most recent call last)",
      "Cell \u001B[1;32mIn[12], line 1\u001B[0m\n\u001B[1;32m----> 1\u001B[0m \u001B[43mpopularion_df\u001B[49m\u001B[43m[\u001B[49m\u001B[38;5;124;43m'\u001B[39;49m\u001B[38;5;124;43mجمعیت- 1399\u001B[39;49m\u001B[38;5;124;43m'\u001B[39;49m\u001B[43m]\u001B[49m\n",
      "File \u001B[1;32m~\\PycharmProjects\\start-db\\venv\\lib\\site-packages\\pandas\\core\\frame.py:3761\u001B[0m, in \u001B[0;36mDataFrame.__getitem__\u001B[1;34m(self, key)\u001B[0m\n\u001B[0;32m   3759\u001B[0m \u001B[38;5;28;01mif\u001B[39;00m \u001B[38;5;28mself\u001B[39m\u001B[38;5;241m.\u001B[39mcolumns\u001B[38;5;241m.\u001B[39mnlevels \u001B[38;5;241m>\u001B[39m \u001B[38;5;241m1\u001B[39m:\n\u001B[0;32m   3760\u001B[0m     \u001B[38;5;28;01mreturn\u001B[39;00m \u001B[38;5;28mself\u001B[39m\u001B[38;5;241m.\u001B[39m_getitem_multilevel(key)\n\u001B[1;32m-> 3761\u001B[0m indexer \u001B[38;5;241m=\u001B[39m \u001B[38;5;28;43mself\u001B[39;49m\u001B[38;5;241;43m.\u001B[39;49m\u001B[43mcolumns\u001B[49m\u001B[38;5;241;43m.\u001B[39;49m\u001B[43mget_loc\u001B[49m\u001B[43m(\u001B[49m\u001B[43mkey\u001B[49m\u001B[43m)\u001B[49m\n\u001B[0;32m   3762\u001B[0m \u001B[38;5;28;01mif\u001B[39;00m is_integer(indexer):\n\u001B[0;32m   3763\u001B[0m     indexer \u001B[38;5;241m=\u001B[39m [indexer]\n",
      "File \u001B[1;32m~\\PycharmProjects\\start-db\\venv\\lib\\site-packages\\pandas\\core\\indexes\\base.py:3654\u001B[0m, in \u001B[0;36mIndex.get_loc\u001B[1;34m(self, key)\u001B[0m\n\u001B[0;32m   3652\u001B[0m     \u001B[38;5;28;01mreturn\u001B[39;00m \u001B[38;5;28mself\u001B[39m\u001B[38;5;241m.\u001B[39m_engine\u001B[38;5;241m.\u001B[39mget_loc(casted_key)\n\u001B[0;32m   3653\u001B[0m \u001B[38;5;28;01mexcept\u001B[39;00m \u001B[38;5;167;01mKeyError\u001B[39;00m \u001B[38;5;28;01mas\u001B[39;00m err:\n\u001B[1;32m-> 3654\u001B[0m     \u001B[38;5;28;01mraise\u001B[39;00m \u001B[38;5;167;01mKeyError\u001B[39;00m(key) \u001B[38;5;28;01mfrom\u001B[39;00m \u001B[38;5;21;01merr\u001B[39;00m\n\u001B[0;32m   3655\u001B[0m \u001B[38;5;28;01mexcept\u001B[39;00m \u001B[38;5;167;01mTypeError\u001B[39;00m:\n\u001B[0;32m   3656\u001B[0m     \u001B[38;5;66;03m# If we have a listlike key, _check_indexing_error will raise\u001B[39;00m\n\u001B[0;32m   3657\u001B[0m     \u001B[38;5;66;03m#  InvalidIndexError. Otherwise we fall through and re-raise\u001B[39;00m\n\u001B[0;32m   3658\u001B[0m     \u001B[38;5;66;03m#  the TypeError.\u001B[39;00m\n\u001B[0;32m   3659\u001B[0m     \u001B[38;5;28mself\u001B[39m\u001B[38;5;241m.\u001B[39m_check_indexing_error(key)\n",
      "\u001B[1;31mKeyError\u001B[0m: 'جمعیت- 1399'"
     ]
    }
   ],
   "source": [
    "popularion_df['جمعیت- 1399']"
   ],
   "metadata": {
    "collapsed": false,
    "pycharm": {
     "name": "#%%\n"
    }
   }
  },
  {
   "cell_type": "code",
   "execution_count": 13,
   "outputs": [
    {
     "data": {
      "text/plain": "Index(['استان', '۱۳۹۵-توزیع', '۱۳۹۵-رتبه', '۱۳۹۶-جمعیت', '۱۳۹۶-رتبه',\n       '۱۳۹۷-جمعیت', '۱۳۹۷-رتبه', '۱۳۹۸-جمعیت', '۱۳۹۸-رتبه', '۱۳۹۹ -جمعیت',\n       '۱۳۹۹ -رتبه'],\n      dtype='object')"
     },
     "execution_count": 13,
     "metadata": {},
     "output_type": "execute_result"
    }
   ],
   "source": [
    "popularion_df.columns"
   ],
   "metadata": {
    "collapsed": false,
    "pycharm": {
     "name": "#%%\n"
    }
   }
  },
  {
   "cell_type": "code",
   "execution_count": 14,
   "outputs": [
    {
     "name": "stdout",
     "output_type": "stream",
     "text": [
      "××\n",
      "100/0\n",
      "6\n",
      "4.8\n",
      "7\n",
      "4.1\n",
      "22\n",
      "1.6\n",
      "3\n",
      "6.4\n",
      "11\n",
      "3.5\n",
      "31\n",
      "0.7\n",
      "23\n",
      "1.5\n",
      "1\n",
      "16.6\n",
      "26\n",
      "1.2\n",
      "28\n",
      "1.0\n",
      "2\n",
      "8.2\n",
      "27\n",
      "1.1\n",
      "5\n",
      "5.9\n",
      "25\n",
      "1.3\n",
      "29\n",
      "0.9\n",
      "10\n",
      "3.6\n",
      "4\n",
      "6.0\n",
      "21\n",
      "1.6\n",
      "20\n",
      "1.7\n",
      "18\n",
      "2.0\n",
      "9\n",
      "4.0\n",
      "13\n",
      "2.4\n",
      "30\n",
      "0.9\n",
      "14\n",
      "2.4\n",
      "12\n",
      "3.1\n",
      "16\n",
      "2.1\n",
      "8\n",
      "4.0\n",
      "19\n",
      "1.8\n",
      "15\n",
      "2.3\n",
      "17\n",
      "2.1\n",
      "24\n",
      "1.5\n"
     ]
    }
   ],
   "source": [
    "for (key, val) in popularion_df.iterrows():\n",
    "    print(val['۱۳۹۹ -رتبه'])\n",
    "    print(val['۱۳۹۹ -جمعیت'])"
   ],
   "metadata": {
    "collapsed": false,
    "pycharm": {
     "name": "#%%\n"
    }
   }
  },
  {
   "cell_type": "code",
   "execution_count": 15,
   "outputs": [
    {
     "data": {
      "text/plain": "(32, 11)"
     },
     "execution_count": 15,
     "metadata": {},
     "output_type": "execute_result"
    }
   ],
   "source": [
    "popularion_df.shape"
   ],
   "metadata": {
    "collapsed": false,
    "pycharm": {
     "name": "#%%\n"
    }
   }
  },
  {
   "cell_type": "code",
   "execution_count": null,
   "outputs": [],
   "source": [],
   "metadata": {
    "collapsed": false,
    "pycharm": {
     "name": "#%%\n"
    }
   }
  }
 ],
 "metadata": {
  "kernelspec": {
   "display_name": "Python 3",
   "language": "python",
   "name": "python3"
  },
  "language_info": {
   "codemirror_mode": {
    "name": "ipython",
    "version": 2
   },
   "file_extension": ".py",
   "mimetype": "text/x-python",
   "name": "python",
   "nbconvert_exporter": "python",
   "pygments_lexer": "ipython2",
   "version": "2.7.6"
  }
 },
 "nbformat": 4,
 "nbformat_minor": 0
}